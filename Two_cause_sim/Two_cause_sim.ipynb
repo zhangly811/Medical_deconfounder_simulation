{
 "cells": [
  {
   "cell_type": "code",
   "execution_count": 1,
   "metadata": {},
   "outputs": [],
   "source": [
    "# !pip install 'tensorflow==1.5.0'\n",
    "# !pip install 'edward==1.3.5'"
   ]
  },
  {
   "cell_type": "markdown",
   "metadata": {
    "colab_type": "text",
    "id": "ShvVUXv8kDu7"
   },
   "source": [
    "# Configure env..."
   ]
  },
  {
   "cell_type": "code",
   "execution_count": 2,
   "metadata": {
    "colab": {
     "autoexec": {
      "startup": false,
      "wait_interval": 0
     }
    },
    "colab_type": "code",
    "id": "DXjxHH6et_yc"
   },
   "outputs": [
    {
     "name": "stdout",
     "output_type": "stream",
     "text": [
      "random seed:  1592223649\n"
     ]
    }
   ],
   "source": [
    "# %matplotlib inline\n",
    "from __future__ import absolute_import\n",
    "from __future__ import division\n",
    "from __future__ import print_function\n",
    "\n",
    "import edward as ed\n",
    "import matplotlib.pyplot as plt\n",
    "import numpy as np\n",
    "import tensorflow as tf\n",
    "import pandas as pd\n",
    "# import seaborn as sns\n",
    "import statsmodels.api as sm\n",
    "\n",
    "import numpy.random as npr\n",
    "import os\n",
    "from datetime import *\n",
    "from sklearn.cluster import KMeans\n",
    "from sklearn.model_selection import KFold, StratifiedKFold, train_test_split\n",
    "from scipy.stats import invgamma\n",
    "from edward.models import Normal, Gamma, Dirichlet, InverseGamma, \\\n",
    "    Poisson, PointMass, Empirical, ParamMixture, \\\n",
    "    MultivariateNormalDiag, Categorical, Laplace,\\\n",
    "    MultivariateNormalTriL, Bernoulli, TransformedDistribution, \\\n",
    "    Binomial\n",
    "from edward.util import Progbar\n",
    "from scipy import sparse, stats\n",
    "from scipy.special import expit, logit\n",
    "# from deconfounder_poissonMF import PoissonMF\n",
    "from sklearn.linear_model import Ridge, LinearRegression\n",
    "plt.style.use('ggplot')\n",
    "np.set_printoptions(formatter={'float': lambda x: \"{0:0.10f}\".format(x)})\n",
    "\n",
    "# set random seed so everyone gets the same number\n",
    "import random\n",
    "import time\n",
    "randseed = int(time.time())\n",
    "# random seed for reproducibility\n",
    "randseed = 1592223649\n",
    "print(\"random seed: \", randseed)"
   ]
  },
  {
   "cell_type": "code",
   "execution_count": 3,
   "metadata": {},
   "outputs": [],
   "source": [
    "# directory\n",
    "DATA_PATH = os.path.join(os.getcwd(), 'data')\n",
    "if not os.path.exists(DATA_PATH):\n",
    "    os.makedirs(DATA_PATH)"
   ]
  },
  {
   "cell_type": "markdown",
   "metadata": {},
   "source": [
    "# Two-cause simulation"
   ]
  },
  {
   "cell_type": "code",
   "execution_count": 4,
   "metadata": {},
   "outputs": [],
   "source": [
    "class PPCA():\n",
    "\n",
    "\n",
    "    \"\"\"\n",
    "\n",
    "    Parameters\n",
    "    ----------\n",
    "    X : numpy array\n",
    "        patient-causes matrix, count or binary\n",
    "    K : integer\n",
    "        number of latent class\n",
    "    M : integer\n",
    "        mini-batch size for stochastic optimization. M <= X.shape[1]\n",
    "    holdout_portion: float\n",
    "        number of holdout datapoints. Between 0 and 1\n",
    "\n",
    "    \"\"\"\n",
    "    \n",
    "    def __init__(self, X, K, M, holdout_portion):\n",
    "        self.X = X\n",
    "        self.K = K\n",
    "        self.M = M\n",
    "        self.holdout_portion = holdout_portion\n",
    "    # for stochastic optimization\n",
    "    # subsample genes\n",
    "    def __next_batch(self, x_train):\n",
    "        idx_batch = np.random.choice(self.N, self.M)\n",
    "        return x_train[:, idx_batch], idx_batch\n",
    "    def __holdout(self):\n",
    "        # randomly holdout some entries of X\n",
    "        num_datapoints, data_dim = self.X.shape\n",
    "        n_holdout = int(self.holdout_portion * num_datapoints * data_dim)\n",
    "\n",
    "        holdout_row = np.random.randint(num_datapoints, size=n_holdout)\n",
    "        holdout_col = np.random.randint(data_dim, size=n_holdout)\n",
    "        holdout_mask = (sparse.coo_matrix((np.ones(n_holdout), \\\n",
    "                                    (holdout_row, holdout_col)), \\\n",
    "                                    shape = self.X.shape)).toarray()\n",
    "        holdout_mask = np.minimum(holdout_mask, np.ones(self.X.shape))\n",
    "        holdout_mask = np.float32(holdout_mask)\n",
    "\n",
    "\n",
    "        holdout_subjects = np.unique(holdout_row)\n",
    "\n",
    "        x_train = np.multiply(1-holdout_mask, self.X)\n",
    "        x_vad = np.multiply(holdout_mask, self.X)\n",
    "        return x_train, x_vad, holdout_row, holdout_col, holdout_mask\n",
    "    \n",
    "    def reconstruct_causes(self):\n",
    "        return self.x_post_np\n",
    "\n",
    "    def run(self):\n",
    "        x_train, x_vad, holdout_row, holdout_col, holdout_mask = self.__holdout()\n",
    "        self.N = x_train.shape[1]  # number of data points\n",
    "        self.D = x_train.shape[0]  # data dimensionality\n",
    "\n",
    "        tf.reset_default_graph()\n",
    "        sess = tf.InteractiveSession()\n",
    "\n",
    "        # MODEL\n",
    "        idx_ph = tf.placeholder(tf.int32, self.M)\n",
    "        x_ph = tf.placeholder(tf.float32, [self.D, self.M])\n",
    "\n",
    "        w = Normal(loc=0.0, scale=1.0, sample_shape=[self.D, self.K])\n",
    "        z = Normal(loc=0.0, scale=1.0, sample_shape=[self.M, self.K])\n",
    "        x = Normal(loc=tf.matmul(w, z, transpose_b=True),\n",
    "                   scale=stddv_datapoints*tf.ones([self.D, self.M]))\n",
    "\n",
    "        # INFERENCE\n",
    "        qw_variables = [tf.Variable(tf.random_normal([self.D, self.K])),\n",
    "                        tf.Variable(tf.random_normal([self.D, self.K]))]\n",
    "\n",
    "        qw = Normal(loc=qw_variables[0], scale=tf.nn.softplus(qw_variables[1]))\n",
    "\n",
    "        qz_variables = [tf.Variable(tf.random_normal([self.N, self.K])),\n",
    "                        tf.Variable(tf.random_normal([self.N, self.K]))]\n",
    "\n",
    "        qz = Normal(loc=tf.gather(qz_variables[0], idx_ph),\n",
    "                    scale=tf.nn.softplus(tf.gather(qz_variables[1], idx_ph)))\n",
    "\n",
    "        inference_w = ed.KLqp({w: qw}, data={x: x_ph, z: qz})\n",
    "        inference_z = ed.KLqp({z: qz}, data={x: x_ph, w: qw})\n",
    "\n",
    "        scale_factor = float(self.N) / self.M\n",
    "        inference_w.initialize(scale={x: scale_factor, z: scale_factor},\n",
    "                               var_list=qz_variables,\n",
    "                               n_samples=5, n_iter=2000)\n",
    "        inference_z.initialize(scale={x: scale_factor, z: scale_factor},\n",
    "                               var_list=qw_variables,\n",
    "                               n_samples=5)\n",
    "\n",
    "        sess = ed.get_session()\n",
    "        tf.global_variables_initializer().run()\n",
    "        loss = []\n",
    "        for _ in range(inference_w.n_iter):\n",
    "            x_batch, idx_batch = self.__next_batch(x_train)\n",
    "            for _ in range(5):\n",
    "                inference_z.update(feed_dict={x_ph: x_batch, \\\n",
    "                                              idx_ph: idx_batch})\n",
    "\n",
    "            info_dict = inference_w.update(feed_dict={x_ph: x_batch, \\\n",
    "                                                      idx_ph: idx_batch})\n",
    "            inference_w.print_progress(info_dict)\n",
    "\n",
    "            t = info_dict['t']\n",
    "            loss.append(info_dict['loss'])\n",
    "        pd.Series(loss).plot()\n",
    "        \n",
    "        w_post = Normal(loc=qw_variables[0], scale=tf.nn.softplus(qw_variables[1]))\n",
    "        z_post = Normal(loc=qz_variables[0],\n",
    "                    scale=tf.nn.softplus(qz_variables[1]))\n",
    "        x_post = Normal(loc=tf.matmul(w_post, z_post, transpose_b=True),\n",
    "                   scale=stddv_datapoints*tf.ones([self.D, self.N]))\n",
    "\n",
    "        \n",
    "        n_rep = 100 # number of replicated datasets we generate\n",
    "        holdout_gen = np.zeros((n_rep, x_train.shape[0], x_train.shape[1]))\n",
    "\n",
    "        for i in range(n_rep):\n",
    "            x_generated = x_post.sample().eval()\n",
    "\n",
    "            # look only at the heldout entries\n",
    "            holdout_gen[i] = np.multiply(x_generated, holdout_mask)\n",
    "\n",
    "        n_eval = 10 # we draw samples from the inferred Z and W\n",
    "        obs_ll = []\n",
    "        rep_ll = []\n",
    "        for j in range(n_eval):\n",
    "            w_sample = w_post.sample().eval()\n",
    "            z_sample = z_post.sample().eval()\n",
    "\n",
    "            holdoutmean_sample = np.multiply(w_sample.dot(z_sample.T), holdout_mask)\n",
    "            obs_ll.append(np.mean(stats.norm(holdoutmean_sample, \\\n",
    "                                stddv_datapoints).logpdf(x_vad), axis=0))\n",
    "\n",
    "            rep_ll.append(np.mean(stats.norm(holdoutmean_sample, \\\n",
    "                                stddv_datapoints).logpdf(holdout_gen),axis=1))\n",
    "\n",
    "        obs_ll_per_zi, rep_ll_per_zi = np.mean(np.array(obs_ll), axis=0), np.mean(np.array(rep_ll), axis=0)\n",
    "\n",
    "        pvals = np.array([np.mean(rep_ll_per_zi[:,i] < obs_ll_per_zi[i]) for i in range(len(obs_ll_per_zi))])\n",
    "        holdout_subjects = np.unique(holdout_col)\n",
    "        self.overall_pval = np.mean(pvals[holdout_subjects])\n",
    "        print(\"Predictive check p-values for K={}\".format(self.K), self.overall_pval)\n",
    "\n",
    "        #results\n",
    "        # Ahat and Zhat in the paper\n",
    "        self.x_post_np = x_post.mean().eval()"
   ]
  },
  {
   "cell_type": "code",
   "execution_count": 5,
   "metadata": {},
   "outputs": [],
   "source": [
    "random.seed(randseed)\n",
    "np.random.seed(randseed)\n",
    "tf.set_random_seed(randseed)\n",
    "\n",
    "\n",
    "Nsim = 500 #num of simulations\n",
    "N = 1000 #num of datapoints\n",
    "A = np.zeros((N, 2))\n",
    "\n",
    "C = np.random.normal(0,1, size = N)# confounder\n",
    "\n",
    "A[:,0] = 0.3*C + np.random.normal(0,1, size = N) # cause 1\n",
    "A[:,1] = 0.4*C + np.random.normal(0,1, size = N) # cause 2\n",
    "\n",
    "# scenario 1: no real cause\n",
    "true_coeffs1 = [0.0,0.0,0.5]\n",
    "Y1 = np.dot(A, true_coeffs1[:2]) + true_coeffs1[2]*C + np.random.normal(0,1, size = [Nsim, N])\n",
    "\n",
    "# scenario 2: one real cause\n",
    "true_coeffs2 = [0.0,0.3,0.5]\n",
    "Y2 = np.dot(A, true_coeffs2[:2]) + true_coeffs2[2]*C + np.random.normal(0,1, size = [Nsim, N])\n",
    "\n",
    "\n",
    "# standardize the data for PPCA\n",
    "for s in range(Nsim):\n",
    "    A = (A - A.mean(axis=0))/A.std(axis=0)"
   ]
  },
  {
   "cell_type": "code",
   "execution_count": 6,
   "metadata": {},
   "outputs": [
    {
     "name": "stdout",
     "output_type": "stream",
     "text": [
      "2000/2000 [100%] ██████████████████████████████ Elapsed: 23s | Loss: 3228.169\n",
      "Predictive check p-values for K=1 0.4710942249240122\n"
     ]
    },
    {
     "data": {
      "image/png": "[encoded data removed]",
      "text/plain": [
       "<Figure size 432x288 with 1 Axes>"
      ]
     },
     "metadata": {
      "needs_background": "light"
     },
     "output_type": "display_data"
    }
   ],
   "source": [
    "pd.set_option('display.float_format', lambda x: '%.3f' % x)\n",
    "np.set_printoptions(suppress=True)\n",
    "random.seed(randseed)\n",
    "np.random.seed(randseed)\n",
    "tf.set_random_seed(randseed)\n",
    "\n",
    "\n",
    "stddv_datapoints = 1.0\n",
    "K=1\n",
    "\n",
    "ppca = PPCA(A.T, K, 100, 0.2)\n",
    "ppca.run()\n",
    "x_post_np = ppca.reconstruct_causes()"
   ]
  },
  {
   "cell_type": "markdown",
   "metadata": {},
   "source": [
    "# Outcome model"
   ]
  },
  {
   "cell_type": "markdown",
   "metadata": {},
   "source": [
    "## Scenario 1: no real cause"
   ]
  },
  {
   "cell_type": "code",
   "execution_count": 7,
   "metadata": {},
   "outputs": [
    {
     "name": "stdout",
     "output_type": "stream",
     "text": [
      "Oracle\n",
      "Coeff:  [0.0021 0.0017] Std err:  [0.0332 0.0343] p-value:  [0.5059 0.5009]\n",
      "Unadjusted\n",
      "Coeff:  [0.1252 0.1768] Std err:  [0.035 0.035] p-value:  [0.0085 0.0002]\n",
      "Med. Dcf\n",
      "Coeff:  [0.1003 0.146 ] Std err:  [0.0555 0.0626] p-value:  [0.1768 0.0836]\n"
     ]
    }
   ],
   "source": [
    "np.set_printoptions(precision=4)\n",
    "# Oracle\n",
    "X_aug = np.column_stack([A, C])\n",
    "X = sm.add_constant(X_aug)\n",
    "coeffs = []\n",
    "stderr = []\n",
    "pvalues = []\n",
    "for s in range(Nsim):\n",
    "    model = sm.OLS(Y1[s, :].T, X)\n",
    "    res = model.fit()\n",
    "    coeffs.append(res.params[1:3])\n",
    "    stderr.append(res.bse[1:3])\n",
    "    pvalues.append(res.pvalues[1:3])\n",
    "    \n",
    "coeffs = np.array(coeffs)\n",
    "t2, p2 = stats.ttest_1samp(coeffs,0)\n",
    "print(\"Oracle\")\n",
    "print (\"Coeff: \", coeffs.mean(axis=0), \"Std err: \", np.mean(stderr, axis=0), \"p-value: \", np.mean(pvalues, axis=0))\n",
    "\n",
    "# Unadjusted\n",
    "X = sm.add_constant(A)\n",
    "coeffs = []\n",
    "stderr = []\n",
    "pvalues = []\n",
    "for s in range(Nsim):\n",
    "    model = sm.OLS(Y1[s, :].T, X)\n",
    "    res = model.fit()\n",
    "    coeffs.append(res.params[1:3])\n",
    "    stderr.append(res.bse[1:3])\n",
    "    pvalues.append(res.pvalues[1:3])\n",
    "    \n",
    "coeffs = np.array(coeffs)\n",
    "t2, p2 = stats.ttest_1samp(coeffs,0)\n",
    "print(\"Unadjusted\")\n",
    "print (\"Coeff: \", coeffs.mean(axis=0), \"Std err: \", np.mean(stderr, axis=0), \"p-value: \", np.mean(pvalues, axis=0))\n",
    "\n",
    "\n",
    "# Adjusted\n",
    "X_aug = np.column_stack([A, x_post_np.T])\n",
    "X = sm.add_constant(X_aug)\n",
    "coeffs = []\n",
    "stderr = []\n",
    "pvalues = []\n",
    "for s in range(Nsim):\n",
    "    model = sm.OLS(Y1[s, :].T, X)\n",
    "    res = model.fit()\n",
    "    coeffs.append(res.params[1:3])\n",
    "    stderr.append(res.bse[1:3])\n",
    "    pvalues.append(res.pvalues[1:3])\n",
    "    \n",
    "coeffs = np.array(coeffs)\n",
    "t2, p2 = stats.ttest_1samp(coeffs,0)\n",
    "print(\"Med. Dcf\")\n",
    "print (\"Coeff: \", coeffs.mean(axis=0), \"Std err: \", np.mean(stderr, axis=0), \"p-value: \", np.mean(pvalues, axis=0))"
   ]
  },
  {
   "cell_type": "markdown",
   "metadata": {},
   "source": [
    "## Scenario 2: one real cause"
   ]
  },
  {
   "cell_type": "code",
   "execution_count": 8,
   "metadata": {},
   "outputs": [
    {
     "name": "stdout",
     "output_type": "stream",
     "text": [
      "Oracle\n",
      "Coeff:  [0.0019 0.3262] Std err:  [0.0332 0.0343] p-value:  [0.5105 0.    ]\n",
      "Unadjusted\n",
      "Coeff:  [0.1258 0.5025] Std err:  [0.0351 0.0351] p-value:  [0.007 0.   ]\n",
      "Med. Dcf\n",
      "Coeff:  [0.0997 0.4704] Std err:  [0.0556 0.0626] p-value:  [0.1625 0.    ]\n"
     ]
    }
   ],
   "source": [
    "np.set_printoptions(precision=4)\n",
    "# Oracle\n",
    "X_aug = np.column_stack([A, C])\n",
    "X = sm.add_constant(X_aug)\n",
    "coeffs = []\n",
    "stderr = []\n",
    "pvalues = []\n",
    "for s in range(Nsim):\n",
    "    model = sm.OLS(Y2[s, :].T, X)\n",
    "    res = model.fit()\n",
    "    coeffs.append(res.params[1:3])\n",
    "    stderr.append(res.bse[1:3])\n",
    "    pvalues.append(res.pvalues[1:3])\n",
    "    \n",
    "coeffs = np.array(coeffs)\n",
    "t2, p2 = stats.ttest_1samp(coeffs,0)\n",
    "print(\"Oracle\")\n",
    "print (\"Coeff: \", coeffs.mean(axis=0), \"Std err: \", np.mean(stderr, axis=0), \"p-value: \", np.mean(pvalues, axis=0))\n",
    "\n",
    "# Unadjusted\n",
    "X = sm.add_constant(A)\n",
    "coeffs = []\n",
    "stderr = []\n",
    "pvalues = []\n",
    "for s in range(Nsim):\n",
    "    model = sm.OLS(Y2[s, :].T, X)\n",
    "    res = model.fit()\n",
    "    coeffs.append(res.params[1:3])\n",
    "    stderr.append(res.bse[1:3])\n",
    "    pvalues.append(res.pvalues[1:3])\n",
    "    \n",
    "coeffs = np.array(coeffs)\n",
    "t2, p2 = stats.ttest_1samp(coeffs,0)\n",
    "print(\"Unadjusted\")\n",
    "print (\"Coeff: \", coeffs.mean(axis=0), \"Std err: \", np.mean(stderr, axis=0), \"p-value: \", np.mean(pvalues, axis=0))\n",
    "\n",
    "\n",
    "# Adjusted\n",
    "X_aug = np.column_stack([A, x_post_np.T])\n",
    "X = sm.add_constant(X_aug)\n",
    "coeffs = []\n",
    "stderr = []\n",
    "pvalues = []\n",
    "for s in range(Nsim):\n",
    "    model = sm.OLS(Y2[s, :].T, X)\n",
    "    res = model.fit()\n",
    "    coeffs.append(res.params[1:3])\n",
    "    stderr.append(res.bse[1:3])\n",
    "    pvalues.append(res.pvalues[1:3])\n",
    "    \n",
    "coeffs = np.array(coeffs)\n",
    "t2, p2 = stats.ttest_1samp(coeffs,0)\n",
    "print(\"Med. Dcf\")\n",
    "print (\"Coeff: \", coeffs.mean(axis=0), \"Std err: \", np.mean(stderr, axis=0), \"p-value: \", np.mean(pvalues, axis=0))"
   ]
  }
 ],
 "metadata": {
  "accelerator": "GPU",
  "colab": {
   "collapsed_sections": [
    "rA4jMmMtfrJO",
    "UKH2LeJV6acn",
    "IZkxOn3tVoFd",
    "cG1609cc5G2-",
    "cnGaFw3TXOu4",
    "yK0rGVb9VcJK",
    "-yzXXuyCp8a0",
    "QCLRjpzf1bts"
   ],
   "default_view": {},
   "name": "latent_confounder_gene_testing.ipynb",
   "provenance": [
    {
     "file_id": "1THbZHTVUamCuyONzyWHtREtZcn163G9p",
     "timestamp": 1517254346174
    }
   ],
   "version": "0.3.2",
   "views": {}
  },
  "kernelspec": {
   "display_name": "Python 2",
   "language": "python",
   "name": "python2"
  },
  "language_info": {
   "codemirror_mode": {
    "name": "ipython",
    "version": 2
   },
   "file_extension": ".py",
   "mimetype": "text/x-python",
   "name": "python",
   "nbconvert_exporter": "python",
   "pygments_lexer": "ipython2",
   "version": "2.7.18"
  }
 },
 "nbformat": 4,
 "nbformat_minor": 1
}
